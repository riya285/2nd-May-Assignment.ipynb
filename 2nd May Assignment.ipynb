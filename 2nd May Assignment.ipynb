{
 "cells": [
  {
   "cell_type": "code",
   "execution_count": null,
   "id": "dbb02532-3e98-4a75-90fd-47aad8d346a9",
   "metadata": {},
   "outputs": [],
   "source": [
    "Q1. What is anomaly detection and what is its purpose?\n",
    "\n",
    "Anomaly detection is the identification of unusual patterns or instances that do not conform to the expected behavior in a dataset. Its purpose is to discover outliers, anomalies, or rare events that deviate significantly from the majority of the data. Anomaly detection is applied in various fields, such as fraud detection, fault detection, cybersecurity, and healthcare monitoring.\n",
    "\n",
    "Q2. What are the key challenges in anomaly detection?\n",
    "\n",
    "Imbalanced Data: Anomalies are often rare compared to normal instances.\n",
    "Changing Patterns: Anomalies may evolve over time, requiring adaptive models.\n",
    "Feature Engineering: Selecting relevant features is crucial for accurate detection.\n",
    "Scalability: Efficient handling of large datasets and real-time processing.\n",
    "Labeling: Obtaining labeled data for supervised methods can be challenging.\n",
    "Domain-specific Knowledge: Understanding the context and domain is essential.\n",
    "Q3. How does unsupervised anomaly detection differ from supervised anomaly detection?\n",
    "\n",
    "Unsupervised Anomaly Detection: Detects anomalies without labeled training data. The algorithm identifies patterns that deviate from the norm based on the characteristics of the majority of the data.\n",
    "\n",
    "Supervised Anomaly Detection: Requires labeled training data with both normal and anomalous instances. The algorithm learns the patterns of normal behavior and detects anomalies based on deviations from the learned model.\n",
    "\n",
    "Q4. What are the main categories of anomaly detection algorithms?\n",
    "\n",
    "Statistical Methods: Use statistical models to identify anomalies based on deviations from expected distributions.\n",
    "Machine Learning Methods:\n",
    "Unsupervised Learning: Detect anomalies without labeled data (e.g., Isolation Forest, LOF).\n",
    "Supervised Learning: Use labeled data to train a model for anomaly detection.\n",
    "Distance-Based Methods: Measure distances or dissimilarities between data points.\n",
    "Clustering Methods: Identify anomalies based on data points that do not fit well into clusters.\n",
    "Q5. What are the main assumptions made by distance-based anomaly detection methods?\n",
    "\n",
    "Assumption: Normal data points are close to each other, and anomalies are far from normal points.\n",
    "Metric Assumption: The chosen distance metric accurately represents the dissimilarity between data points.\n",
    "Q6. How does the LOF algorithm compute anomaly scores?\n",
    "\n",
    "LOF Algorithm: Computes the local density of a data point relative to its neighbors.\n",
    "Anomaly Score: Ratio of the average local density of a data point's neighbors to its own local density. High values indicate anomalies.\n",
    "Q7. What are the key parameters of the Isolation Forest algorithm?\n",
    "\n",
    "Number of Trees: The number of trees in the forest.\n",
    "Subsample Size: The size of the random subsets used to build each tree.\n",
    "Contamination: The expected proportion of anomalies in the dataset.\n",
    "Q8. If a data point has only 2 neighbors of the same class within a radius of 0.5, what is its anomaly score using KNN with K=10?\n",
    "\n",
    "Answer: Anomaly score using KNN is typically based on the inverse of the density, so having only 2 neighbors within a small radius may result in a high anomaly score.\n",
    "Q9. Using the Isolation Forest algorithm with 100 trees and a dataset of 3000 data points, what is the anomaly score for a data point that has an average path length of 5.0 compared to the average path length of the trees?\n",
    "\n",
    "Answer: The anomaly score in Isolation Forest is inversely proportional to the average path length. A shorter average path length indicates a more isolated data point, so an average path length of 5.0 is considered indicative of a higher anomaly score.\n"
   ]
  }
 ],
 "metadata": {
  "kernelspec": {
   "display_name": "Python 3 (ipykernel)",
   "language": "python",
   "name": "python3"
  },
  "language_info": {
   "codemirror_mode": {
    "name": "ipython",
    "version": 3
   },
   "file_extension": ".py",
   "mimetype": "text/x-python",
   "name": "python",
   "nbconvert_exporter": "python",
   "pygments_lexer": "ipython3",
   "version": "3.10.8"
  }
 },
 "nbformat": 4,
 "nbformat_minor": 5
}
